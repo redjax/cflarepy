{
 "cells": [
  {
   "cell_type": "code",
   "execution_count": 2,
   "metadata": {},
   "outputs": [],
   "source": [
    "## Set notebook to auto reload updated modules\n",
    "%load_ext autoreload\n",
    "%autoreload 2"
   ]
  },
  {
   "cell_type": "code",
   "execution_count": 11,
   "metadata": {},
   "outputs": [],
   "source": [
    "from cflarepy.libs import core_utils, setup\n",
    "from cflarepy.libs.settings import CLOUDFLARE_SETTINGS"
   ]
  },
  {
   "cell_type": "code",
   "execution_count": 4,
   "metadata": {},
   "outputs": [],
   "source": [
    "import pandas as pd\n",
    "from cloudflare import Cloudflare"
   ]
  },
  {
   "cell_type": "code",
   "execution_count": 5,
   "metadata": {},
   "outputs": [],
   "source": [
    "pd.set_option('display.max_rows', None)\n",
    "pd.set_option('display.max_columns', None)"
   ]
  },
  {
   "cell_type": "code",
   "execution_count": 6,
   "metadata": {},
   "outputs": [],
   "source": [
    "def get_zones(cf_client: Cloudflare):\n",
    "    zones = []\n",
    "\n",
    "    display(\"Getting Cloudflare zones\")\n",
    "    try:\n",
    "        for zone in cf_client.zones.list():\n",
    "            zones.append(zone)\n",
    "    except Exception as exc:\n",
    "        msg = f\"({type(exc)}) Error getting Cloudflare zones. Details: {exc}\"\n",
    "        display(f\"[ERROR] {msg}\")\n",
    "        \n",
    "        raise exc\n",
    "        \n",
    "    return zones"
   ]
  },
  {
   "cell_type": "code",
   "execution_count": null,
   "metadata": {},
   "outputs": [],
   "source": [
    "import os\n",
    "display(os.environ.get(\"CF_API_KEY\"))"
   ]
  },
  {
   "cell_type": "code",
   "execution_count": null,
   "metadata": {},
   "outputs": [],
   "source": [
    "os.environ.items()"
   ]
  },
  {
   "cell_type": "code",
   "execution_count": null,
   "metadata": {},
   "outputs": [],
   "source": [
    "CLOUDFLARE_SETTINGS.as_dict()"
   ]
  },
  {
   "cell_type": "code",
   "execution_count": null,
   "metadata": {},
   "outputs": [],
   "source": [
    "api_token = CLOUDFLARE_SETTINGS.get(\"CF_API_KEY\")\n",
    "if not api_token:\n",
    "    raise ValueError(\"Missing Cloudflare API token. Set environment variable CF_API_KEY=<API_KEY>\")\n",
    "\n",
    "display(api_token)\n"
   ]
  },
  {
   "cell_type": "code",
   "execution_count": null,
   "metadata": {},
   "outputs": [],
   "source": [
    "cf_client =  Cloudflare(api_token=settings.CLOUDFLARE_SETTINGS.get(\"CF_API_KEY\"))"
   ]
  },
  {
   "cell_type": "code",
   "execution_count": null,
   "metadata": {},
   "outputs": [],
   "source": [
    "zones = get_zones(cf_client=cf_client)\n",
    "zones"
   ]
  }
 ],
 "metadata": {
  "kernelspec": {
   "display_name": ".venv",
   "language": "python",
   "name": "python3"
  },
  "language_info": {
   "codemirror_mode": {
    "name": "ipython",
    "version": 3
   },
   "file_extension": ".py",
   "mimetype": "text/x-python",
   "name": "python",
   "nbconvert_exporter": "python",
   "pygments_lexer": "ipython3",
   "version": "3.11.10"
  }
 },
 "nbformat": 4,
 "nbformat_minor": 2
}
