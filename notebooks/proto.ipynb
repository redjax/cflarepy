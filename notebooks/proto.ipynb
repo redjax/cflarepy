{
 "cells": [
  {
   "cell_type": "code",
   "execution_count": null,
   "metadata": {},
   "outputs": [],
   "source": [
    "## Set notebook to auto reload updated modules\n",
    "%load_ext autoreload\n",
    "%autoreload 2"
   ]
  },
  {
   "cell_type": "code",
   "execution_count": null,
   "metadata": {},
   "outputs": [],
   "source": [
    "NB_LOG_LEVEL: str = \"ERROR\""
   ]
  },
  {
   "cell_type": "code",
   "execution_count": null,
   "metadata": {},
   "outputs": [],
   "source": [
    "import json\n",
    "from pathlib import Path\n",
    "import typing as t\n",
    "from dataclasses import dataclass, field"
   ]
  },
  {
   "cell_type": "code",
   "execution_count": null,
   "metadata": {},
   "outputs": [],
   "source": [
    "import core_utils, setup, settings\n",
    "from cfapi.controllers import CloudflareController, get_cloudflare_controller"
   ]
  },
  {
   "cell_type": "code",
   "execution_count": null,
   "metadata": {},
   "outputs": [],
   "source": [
    "import pandas as pd"
   ]
  },
  {
   "cell_type": "code",
   "execution_count": null,
   "metadata": {},
   "outputs": [],
   "source": [
    "pd.set_option('display.max_rows', None)\n",
    "pd.set_option('display.max_columns', None)"
   ]
  },
  {
   "cell_type": "code",
   "execution_count": null,
   "metadata": {},
   "outputs": [],
   "source": [
    "LOGGING_INITIALIZED: bool = False\n",
    "\n",
    "if not LOGGING_INITIALIZED:\n",
    "    setup.setup_loguru_logging(log_level=NB_LOG_LEVEL)\n",
    "    LOGGING_INITIALIZED = True"
   ]
  },
  {
   "cell_type": "code",
   "execution_count": null,
   "metadata": {},
   "outputs": [],
   "source": [
    "@dataclass\n",
    "class CloudflareConfig(object):\n",
    "    cf_api_email: str | None \n",
    "    cf_api_key: str | None = field(default=None, repr=False)\n",
    "    cf_api_token: str | None = field(default=None, repr=False)\n",
    "    \n",
    "    @property\n",
    "    def token(self):\n",
    "        return self.cf_api_token\n",
    "    \n",
    "    @property\n",
    "    def key(self):\n",
    "        return self.cf_api_key\n",
    "    \n",
    "    @property\n",
    "    def email(self):\n",
    "        return self.cf_api_email\n",
    "\n",
    "\n",
    "@dataclass\n",
    "class NotebookConfig(object):\n",
    "    cf_config: CloudflareConfig = None"
   ]
  },
  {
   "cell_type": "code",
   "execution_count": null,
   "metadata": {},
   "outputs": [],
   "source": [
    "def load_nb_config(config_file: str = \"./nb_config.json\") -> NotebookConfig:\n",
    "    if not config_file:\n",
    "        raise ValueError(\"Missing path to a notebook config JSON file.\")\n",
    "    \n",
    "    config_file: Path = Path(config_file).expanduser() if \"~\" in str(config_file) else Path(str(config_file)).absolute()\n",
    "    \n",
    "    if not config_file.exists():\n",
    "        raise FileNotFoundError(f\"Could not find notebook config file at '{config_file}'\")\n",
    "    \n",
    "    display(f\"Loading notebook config from: {config_file}\")\n",
    "    with open(config_file, \"r\") as f:\n",
    "        nb_config_dict: dict = json.load(f)\n",
    "    \n",
    "    cf_config: CloudflareConfig = CloudflareConfig(**nb_config_dict[\"cloudflare\"])\n",
    "    nb_config: NotebookConfig = NotebookConfig(cf_config=cf_config)\n",
    "    \n",
    "    return nb_config"
   ]
  },
  {
   "cell_type": "code",
   "execution_count": null,
   "metadata": {},
   "outputs": [],
   "source": [
    "nb_config = load_nb_config()\n",
    "if nb_config:\n",
    "    display(nb_config)"
   ]
  },
  {
   "cell_type": "code",
   "execution_count": null,
   "metadata": {},
   "outputs": [],
   "source": [
    "api_token = nb_config.cf_config.token\n",
    "if not api_token:\n",
    "    raise ValueError(\"Missing Cloudflare API token. Set environment variable CF_API_TOKEN=<API_TOKEN>\")\n",
    "\n",
    "display(api_token)\n"
   ]
  },
  {
   "cell_type": "code",
   "execution_count": null,
   "metadata": {},
   "outputs": [],
   "source": [
    "cf_controller = CloudflareController(debug_secrets=True, api_token=api_token)"
   ]
  },
  {
   "cell_type": "code",
   "execution_count": null,
   "metadata": {},
   "outputs": [],
   "source": [
    "accounts = cf_controller.get_accounts()\n",
    "accounts"
   ]
  },
  {
   "cell_type": "code",
   "execution_count": null,
   "metadata": {},
   "outputs": [],
   "source": [
    "accounts_df = pd.DataFrame(accounts)\n",
    "accounts_df"
   ]
  },
  {
   "cell_type": "code",
   "execution_count": null,
   "metadata": {},
   "outputs": [],
   "source": [
    "zones = cf_controller.get_zones()\n",
    "zones"
   ]
  },
  {
   "cell_type": "code",
   "execution_count": null,
   "metadata": {},
   "outputs": [],
   "source": [
    "zones_df = pd.DataFrame(zones)\n",
    "zones_df"
   ]
  },
  {
   "cell_type": "code",
   "execution_count": null,
   "metadata": {},
   "outputs": [],
   "source": [
    "working_zone = zones_df[zones_df[\"name\"] == \"crvr.us\"].iloc[0]\n",
    "working_zone"
   ]
  },
  {
   "cell_type": "code",
   "execution_count": null,
   "metadata": {},
   "outputs": [],
   "source": [
    "display(working_zone[\"name\"])\n",
    "display(working_zone[\"id\"])"
   ]
  },
  {
   "cell_type": "code",
   "execution_count": null,
   "metadata": {},
   "outputs": [],
   "source": [
    "working_zone_waf_filters = cf_controller.get_zone_waf_filters(zone_id=working_zone['id'])\n",
    "working_zone_waf_filters"
   ]
  },
  {
   "cell_type": "code",
   "execution_count": null,
   "metadata": {},
   "outputs": [],
   "source": [
    "working_zone_waf_filters_df = pd.DataFrame(working_zone_waf_filters)\n",
    "working_zone_waf_filters_df"
   ]
  },
  {
   "cell_type": "code",
   "execution_count": null,
   "metadata": {},
   "outputs": [],
   "source": [
    "zones_wafs = []\n",
    "\n",
    "for zone in zones:\n",
    "    try:\n",
    "        waf_rules = cf_controller.get_zone_waf_filters(zone_id=zone[\"id\"])\n",
    "    except Exception as exc:\n",
    "        msg = f\"({type(exc)}) Error getting Cloudflare zone WAF rules. Details: {exc}\"\n",
    "        display(f\"[ERROR] {msg}\")\n",
    "\n",
    "        continue\n",
    "    # zones_wafs.append({\"zone_name\": zone.name, \"zone_id\": zone.id, \"waf_rules\": waf_rules})\n",
    "    for rule in waf_rules:\n",
    "        zones_wafs.append(\n",
    "            {\n",
    "                \"zone_name\": zone[\"name\"],\n",
    "                \"zone_id\": zone[\"id\"],\n",
    "                \"zone_status\": zone[\"status\"],\n",
    "                \"zone_paused\": zone[\"paused\"],\n",
    "                \"waf_rule_id\": rule[\"id\"],\n",
    "                \"waf_rule\": rule[\"expression\"],\n",
    "                \"waf_rule_paused\": rule[\"paused\"],\n",
    "            }\n",
    "        )\n",
    "\n",
    "zones_wafs_df = pd.DataFrame(zones_wafs)\n",
    "zones_wafs_df"
   ]
  }
 ],
 "metadata": {
  "kernelspec": {
   "display_name": ".venv",
   "language": "python",
   "name": "python3"
  },
  "language_info": {
   "codemirror_mode": {
    "name": "ipython",
    "version": 3
   },
   "file_extension": ".py",
   "mimetype": "text/x-python",
   "name": "python",
   "nbconvert_exporter": "python",
   "pygments_lexer": "ipython3",
   "version": "3.11.10"
  }
 },
 "nbformat": 4,
 "nbformat_minor": 2
}
