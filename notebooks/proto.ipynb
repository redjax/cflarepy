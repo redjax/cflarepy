{
 "cells": [
  {
   "cell_type": "code",
   "execution_count": 1,
   "metadata": {},
   "outputs": [],
   "source": [
    "## Set notebook to auto reload updated modules\n",
    "%load_ext autoreload\n",
    "%autoreload 2"
   ]
  },
  {
   "cell_type": "code",
   "execution_count": 15,
   "metadata": {},
   "outputs": [],
   "source": [
    "import json\n",
    "from pathlib import Path\n",
    "import typing as t\n",
    "import os\n",
    "from dataclasses import dataclass, field"
   ]
  },
  {
   "cell_type": "code",
   "execution_count": 3,
   "metadata": {},
   "outputs": [
    {
     "data": {
      "text/plain": [
       "'CWD: /home/jack/git/cflarepy'"
      ]
     },
     "metadata": {},
     "output_type": "display_data"
    }
   ],
   "source": [
    "## Set notebook's working directory to project root\n",
    "os.chdir(\"..\")\n",
    "display(f\"CWD: {os.getcwd()}\")"
   ]
  },
  {
   "cell_type": "code",
   "execution_count": 4,
   "metadata": {},
   "outputs": [],
   "source": [
    "from cflarepy.libs import core_utils, setup\n",
    "from cflarepy.libs.settings import CLOUDFLARE_SETTINGS"
   ]
  },
  {
   "cell_type": "code",
   "execution_count": 5,
   "metadata": {},
   "outputs": [],
   "source": [
    "import pandas as pd\n",
    "from cloudflare import Cloudflare"
   ]
  },
  {
   "cell_type": "code",
   "execution_count": 6,
   "metadata": {},
   "outputs": [],
   "source": [
    "pd.set_option('display.max_rows', None)\n",
    "pd.set_option('display.max_columns', None)"
   ]
  },
  {
   "cell_type": "code",
   "execution_count": 41,
   "metadata": {},
   "outputs": [],
   "source": [
    "@dataclass\n",
    "class CloudflareConfig(object):\n",
    "    cf_api_email: str | None \n",
    "    cf_api_key: str | None = field(default=None, repr=False)\n",
    "    cf_api_token: str | None = field(default=None, repr=False)\n",
    "    \n",
    "    @property\n",
    "    def token(self):\n",
    "        return self.cf_api_token\n",
    "    \n",
    "    @property\n",
    "    def key(self):\n",
    "        return self.cf_api_key\n",
    "    \n",
    "    @property\n",
    "    def email(self):\n",
    "        return self.cf_api_email\n",
    "\n",
    "\n",
    "@dataclass\n",
    "class NotebookConfig(object):\n",
    "    cf_config: CloudflareConfig = None"
   ]
  },
  {
   "cell_type": "code",
   "execution_count": 42,
   "metadata": {},
   "outputs": [],
   "source": [
    "def load_nb_config(config_file: str = \"./notebooks/nb_config.json\") -> NotebookConfig:\n",
    "    if not config_file:\n",
    "        raise ValueError(\"Missing path to a notebook config JSON file.\")\n",
    "    \n",
    "    config_file: Path = Path(config_file).expanduser() if \"~\" in str(config_file) else Path(str(config_file)).absolute()\n",
    "    \n",
    "    if not config_file.exists():\n",
    "        raise FileNotFoundError(f\"Could not find notebook config file at '{config_file}'\")\n",
    "    \n",
    "    display(f\"Loading notebook config from: {config_file}\")\n",
    "    with open(config_file, \"r\") as f:\n",
    "        nb_config_dict: dict = json.load(f)\n",
    "    \n",
    "    cf_config: CloudflareConfig = CloudflareConfig(**nb_config_dict[\"cloudflare\"])\n",
    "    nb_config: NotebookConfig = NotebookConfig(cf_config=cf_config)\n",
    "    \n",
    "    return nb_config"
   ]
  },
  {
   "cell_type": "code",
   "execution_count": 43,
   "metadata": {},
   "outputs": [
    {
     "data": {
      "text/plain": [
       "'Loading notebook config from: /home/jack/git/cflarepy/notebooks/nb_config.json'"
      ]
     },
     "metadata": {},
     "output_type": "display_data"
    },
    {
     "data": {
      "text/plain": [
       "NotebookConfig(cf_config=CloudflareConfig(cf_api_email='jackenyon@gmail.com'))"
      ]
     },
     "metadata": {},
     "output_type": "display_data"
    }
   ],
   "source": [
    "nb_config = load_nb_config()\n",
    "if nb_config:\n",
    "    display(nb_config)"
   ]
  },
  {
   "cell_type": "code",
   "execution_count": 5,
   "metadata": {},
   "outputs": [],
   "source": [
    "def get_zones(cf_client: Cloudflare):\n",
    "    zones = []\n",
    "\n",
    "    display(\"Getting Cloudflare zones\")\n",
    "    try:\n",
    "        for zone in cf_client.zones.list():\n",
    "            zones.append(zone)\n",
    "    except Exception as exc:\n",
    "        msg = f\"({type(exc)}) Error getting Cloudflare zones. Details: {exc}\"\n",
    "        display(f\"[ERROR] {msg}\")\n",
    "        \n",
    "        raise exc\n",
    "        \n",
    "    return zones"
   ]
  },
  {
   "cell_type": "code",
   "execution_count": 9,
   "metadata": {},
   "outputs": [
    {
     "ename": "ValueError",
     "evalue": "Missing Cloudflare API token. Set environment variable CF_API_TOKEN=<API_TOKEN>",
     "output_type": "error",
     "traceback": [
      "\u001b[0;31m---------------------------------------------------------------------------\u001b[0m",
      "\u001b[0;31mValueError\u001b[0m                                Traceback (most recent call last)",
      "Cell \u001b[0;32mIn[9], line 3\u001b[0m\n\u001b[1;32m      1\u001b[0m api_token \u001b[38;5;241m=\u001b[39m CLOUDFLARE_SETTINGS\u001b[38;5;241m.\u001b[39mget(\u001b[38;5;124m\"\u001b[39m\u001b[38;5;124mCF_API_TOKEN\u001b[39m\u001b[38;5;124m\"\u001b[39m)\n\u001b[1;32m      2\u001b[0m \u001b[38;5;28;01mif\u001b[39;00m \u001b[38;5;129;01mnot\u001b[39;00m api_token:\n\u001b[0;32m----> 3\u001b[0m     \u001b[38;5;28;01mraise\u001b[39;00m \u001b[38;5;167;01mValueError\u001b[39;00m(\u001b[38;5;124m\"\u001b[39m\u001b[38;5;124mMissing Cloudflare API token. Set environment variable CF_API_TOKEN=<API_TOKEN>\u001b[39m\u001b[38;5;124m\"\u001b[39m)\n\u001b[1;32m      5\u001b[0m display(api_token)\n",
      "\u001b[0;31mValueError\u001b[0m: Missing Cloudflare API token. Set environment variable CF_API_TOKEN=<API_TOKEN>"
     ]
    }
   ],
   "source": [
    "api_token = CLOUDFLARE_SETTINGS.get(\"CF_API_TOKEN\")\n",
    "if not api_token:\n",
    "    raise ValueError(\"Missing Cloudflare API token. Set environment variable CF_API_TOKEN=<API_TOKEN>\")\n",
    "\n",
    "display(api_token)\n"
   ]
  },
  {
   "cell_type": "code",
   "execution_count": null,
   "metadata": {},
   "outputs": [],
   "source": [
    "cf_client =  Cloudflare(api_token=settings.CLOUDFLARE_SETTINGS.get(\"CF_API_TOKEN\"))"
   ]
  },
  {
   "cell_type": "code",
   "execution_count": null,
   "metadata": {},
   "outputs": [],
   "source": [
    "zones = get_zones(cf_client=cf_client)\n",
    "zones"
   ]
  }
 ],
 "metadata": {
  "kernelspec": {
   "display_name": ".venv",
   "language": "python",
   "name": "python3"
  },
  "language_info": {
   "codemirror_mode": {
    "name": "ipython",
    "version": 3
   },
   "file_extension": ".py",
   "mimetype": "text/x-python",
   "name": "python",
   "nbconvert_exporter": "python",
   "pygments_lexer": "ipython3",
   "version": "3.11.10"
  }
 },
 "nbformat": 4,
 "nbformat_minor": 2
}
